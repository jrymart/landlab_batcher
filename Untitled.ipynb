{
 "cells": [
  {
   "cell_type": "code",
   "execution_count": 1,
   "id": "3d988ba4-1013-47f1-906d-e993eabe4aaf",
   "metadata": {},
   "outputs": [],
   "source": [
    "from generate_ensembles import create_model_db"
   ]
  },
  {
   "cell_type": "code",
   "execution_count": 2,
   "id": "a20e8b13-b9dc-4bc7-89bb-3ab535b7b12c",
   "metadata": {},
   "outputs": [
    {
     "ename": "AttributeError",
     "evalue": "'NoneType' object has no attribute 'group'",
     "output_type": "error",
     "traceback": [
      "\u001b[0;31m---------------------------------------------------------------------------\u001b[0m",
      "\u001b[0;31mAttributeError\u001b[0m                            Traceback (most recent call last)",
      "Cell \u001b[0;32mIn[2], line 1\u001b[0m\n\u001b[0;32m----> 1\u001b[0m \u001b[43mcreate_model_db\u001b[49m\u001b[43m(\u001b[49m\u001b[38;5;124;43m\"\u001b[39;49m\u001b[38;5;124;43mtest.db\u001b[39;49m\u001b[38;5;124;43m\"\u001b[39;49m\u001b[43m,\u001b[49m\u001b[43m \u001b[49m\u001b[38;5;124;43m\"\u001b[39;49m\u001b[38;5;124;43mmodel_params.json\u001b[39;49m\u001b[38;5;124;43m\"\u001b[39;49m\u001b[43m)\u001b[49m\n",
      "File \u001b[0;32m~/cub/csdms/landlab_ensemble/generate_ensembles.py:66\u001b[0m, in \u001b[0;36mcreate_model_db\u001b[0;34m(db_path, param_path)\u001b[0m\n\u001b[1;32m     64\u001b[0m \u001b[38;5;28;01mwith\u001b[39;00m \u001b[38;5;28mopen\u001b[39m(param_path, \u001b[38;5;124m'\u001b[39m\u001b[38;5;124mr\u001b[39m\u001b[38;5;124m'\u001b[39m) \u001b[38;5;28;01mas\u001b[39;00m param_f:\n\u001b[1;32m     65\u001b[0m     params \u001b[38;5;241m=\u001b[39m json\u001b[38;5;241m.\u001b[39mload(param_f)\n\u001b[0;32m---> 66\u001b[0m model_params \u001b[38;5;241m=\u001b[39m \u001b[43mmodel_param_gen\u001b[49m\u001b[43m(\u001b[49m\u001b[43mparams\u001b[49m\u001b[43m)\u001b[49m\n\u001b[1;32m     67\u001b[0m param \u001b[38;5;241m=\u001b[39m model_params\u001b[38;5;241m.\u001b[39mnext()\n\u001b[1;32m     68\u001b[0m generate_model_run_db(db_path, param)\n",
      "File \u001b[0;32m~/cub/csdms/landlab_ensemble/generate_ensembles.py:34\u001b[0m, in \u001b[0;36mmodel_param_gen.__init__\u001b[0;34m(self, parameters)\u001b[0m\n\u001b[1;32m     32\u001b[0m \u001b[38;5;28mself\u001b[39m\u001b[38;5;241m.\u001b[39miterative_params \u001b[38;5;241m=\u001b[39m get_iterative_params(parameters)\n\u001b[1;32m     33\u001b[0m flat_params \u001b[38;5;241m=\u001b[39m flatten_dict(parameters)\n\u001b[0;32m---> 34\u001b[0m parameter_arrays \u001b[38;5;241m=\u001b[39m [\u001b[43mgenerate_parameter_array\u001b[49m\u001b[43m(\u001b[49m\u001b[43mflat_params\u001b[49m\u001b[43m[\u001b[49m\u001b[43mparam\u001b[49m\u001b[43m]\u001b[49m\u001b[43m)\u001b[49m \u001b[38;5;28;01mfor\u001b[39;00m param \u001b[38;5;129;01min\u001b[39;00m \u001b[38;5;28mself\u001b[39m\u001b[38;5;241m.\u001b[39miterative_params]\n\u001b[1;32m     35\u001b[0m \u001b[38;5;28mself\u001b[39m\u001b[38;5;241m.\u001b[39mparameters \u001b[38;5;241m=\u001b[39m np\u001b[38;5;241m.\u001b[39marray(np\u001b[38;5;241m.\u001b[39mmeshgrid(\u001b[38;5;241m*\u001b[39mparameter_arrays))\u001b[38;5;241m.\u001b[39mT\u001b[38;5;241m.\u001b[39mreshape(\u001b[38;5;241m-\u001b[39m\u001b[38;5;241m1\u001b[39m,\u001b[38;5;28mlen\u001b[39m(parameter_arrays))\n\u001b[1;32m     36\u001b[0m \u001b[38;5;28mself\u001b[39m\u001b[38;5;241m.\u001b[39mcurrent \u001b[38;5;241m=\u001b[39m \u001b[38;5;241m0\u001b[39m\n",
      "File \u001b[0;32m~/cub/csdms/landlab_ensemble/generate_ensembles.py:24\u001b[0m, in \u001b[0;36mgenerate_parameter_array\u001b[0;34m(interative_param_value)\u001b[0m\n\u001b[1;32m     22\u001b[0m \u001b[38;5;28;01mdef\u001b[39;00m \u001b[38;5;21mgenerate_parameter_array\u001b[39m(interative_param_value):\n\u001b[1;32m     23\u001b[0m     match \u001b[38;5;241m=\u001b[39m ITER_PARAM_RE\u001b[38;5;241m.\u001b[39mmatch(interative_param_value)\n\u001b[0;32m---> 24\u001b[0m     function \u001b[38;5;241m=\u001b[39m VALID_GENERATORS[\u001b[43mmatch\u001b[49m\u001b[38;5;241;43m.\u001b[39;49m\u001b[43mgroup\u001b[49m(\u001b[38;5;241m1\u001b[39m)]\n\u001b[1;32m     25\u001b[0m     args \u001b[38;5;241m=\u001b[39m json\u001b[38;5;241m.\u001b[39mloads(match\u001b[38;5;241m.\u001b[39mgroup(\u001b[38;5;241m2\u001b[39m))\n\u001b[1;32m     26\u001b[0m     \u001b[38;5;28;01mreturn\u001b[39;00m function(\u001b[38;5;241m*\u001b[39m\u001b[38;5;241m*\u001b[39margs)\n",
      "\u001b[0;31mAttributeError\u001b[0m: 'NoneType' object has no attribute 'group'"
     ]
    }
   ],
   "source": [
    "create_model_db(\"test.db\", \"model_params.json\")"
   ]
  },
  {
   "cell_type": "code",
   "execution_count": null,
   "id": "75f00cc8-246f-4ba0-a17a-2844b0b16de4",
   "metadata": {},
   "outputs": [],
   "source": []
  }
 ],
 "metadata": {
  "kernelspec": {
   "display_name": "Python 3 (ipykernel)",
   "language": "python",
   "name": "python3"
  },
  "language_info": {
   "codemirror_mode": {
    "name": "ipython",
    "version": 3
   },
   "file_extension": ".py",
   "mimetype": "text/x-python",
   "name": "python",
   "nbconvert_exporter": "python",
   "pygments_lexer": "ipython3",
   "version": "3.12.3"
  }
 },
 "nbformat": 4,
 "nbformat_minor": 5
}
